{
 "cells": [
  {
   "cell_type": "code",
   "execution_count": null,
   "metadata": {},
   "outputs": [],
   "source": [
    "import itertools\n",
    "import os\n",
    "import re\n",
    "import string\n",
    "import pickle\n",
    "from somajo import SoMaJo"
   ]
  },
  {
   "cell_type": "code",
   "execution_count": null,
   "metadata": {},
   "outputs": [],
   "source": [
    "tokenizer = SoMaJo(\"de_CMC\", split_sentences=True)\n",
    "def preprocess_doc_and_split_in_sentences(document: str):\n",
    "    document = [document]\n",
    "    sentences = tokenizer.tokenize_text(document)\n",
    "    sentences_processed = []\n",
    "    for sentence in sentences:\n",
    "        sent = []\n",
    "        for token in sentence:\n",
    "            token = token.text.lower()\n",
    "            if re.match(\"[\\w]\", token) and not re.match(\"[\\d]\", token):\n",
    "                sent.append(token)\n",
    "        sentences_processed.append(sent)\n",
    "    return sentences_processed"
   ]
  },
  {
   "cell_type": "code",
   "execution_count": null,
   "metadata": {
    "scrolled": true
   },
   "outputs": [],
   "source": [
    "base_path = 'wikidump_parsed/AA/'\n",
    "sentences_final = []\n",
    "doc_counter = 0\n",
    "for in_file_path in os.listdir(base_path):\n",
    "    with open(os.path.join(base_path, in_file_path)) as in_file:\n",
    "        while not next(in_file, 'the_iterator_is_finished') == 'the_iterator_is_finished':\n",
    "            print(f'processing doc {doc_counter}')\n",
    "            doc = ''\n",
    "            line = next(in_file)\n",
    "            while not '</doc>' in line:\n",
    "                doc += line\n",
    "                line = next(in_file)\n",
    "            sentences_processed = preprocess_doc_and_split_in_sentences(doc)\n",
    "            sentences_final += sentences_processed\n",
    "            doc_counter += 1\n",
    "print(f'nr of sentences: {len(sentences_final)}')"
   ]
  },
  {
   "cell_type": "code",
   "execution_count": null,
   "metadata": {},
   "outputs": [],
   "source": [
    "sentences_final[1]"
   ]
  },
  {
   "cell_type": "code",
   "execution_count": null,
   "metadata": {},
   "outputs": [],
   "source": [
    "with open('wiki_articles_preprocessed.pkl', 'wb') as out_file:\n",
    "    pickle.dump(sentences_final, out_file)"
   ]
  },
  {
   "cell_type": "code",
   "execution_count": null,
   "metadata": {},
   "outputs": [],
   "source": [
    "sentences_final[0]"
   ]
  }
 ],
 "metadata": {
  "kernelspec": {
   "display_name": "Python 3",
   "language": "python",
   "name": "python3"
  },
  "language_info": {
   "codemirror_mode": {
    "name": "ipython",
    "version": 3
   },
   "file_extension": ".py",
   "mimetype": "text/x-python",
   "name": "python",
   "nbconvert_exporter": "python",
   "pygments_lexer": "ipython3",
   "version": "3.7.7"
  }
 },
 "nbformat": 4,
 "nbformat_minor": 4
}
