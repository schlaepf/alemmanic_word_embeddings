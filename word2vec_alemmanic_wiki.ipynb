{
 "cells": [
  {
   "cell_type": "code",
   "execution_count": null,
   "metadata": {},
   "outputs": [],
   "source": [
    "import pickle\n",
    "import matplotlib.pyplot as plt\n",
    "import numpy as np"
   ]
  },
  {
   "cell_type": "code",
   "execution_count": null,
   "metadata": {},
   "outputs": [],
   "source": [
    "with open('wiki_articles_preprocessed.pkl', 'rb') as in_file:\n",
    "    sentences = pickle.load(in_file)\n",
    "print(f'nr of sentences: {len(sentences)}')"
   ]
  },
  {
   "cell_type": "code",
   "execution_count": null,
   "metadata": {},
   "outputs": [],
   "source": [
    "word_frequency = {}\n",
    "for sent in sentences:\n",
    "    for word in sent:\n",
    "        word_frequency[word] = word_frequency.get(word, 0) + 1\n",
    "nr_unique_words = len(word_frequency)"
   ]
  },
  {
   "cell_type": "code",
   "execution_count": null,
   "metadata": {},
   "outputs": [],
   "source": [
    "frequency_sorted = sorted(word_frequency.items(), key=lambda x: x[1], reverse=True)"
   ]
  },
  {
   "cell_type": "code",
   "execution_count": null,
   "metadata": {},
   "outputs": [],
   "source": [
    "frequencies_only = [freq[1] for freq in frequency_sorted]\n",
    "n_words_to_plot = 200\n",
    "plt.figure(figsize=(15,8))\n",
    "plt.bar(list(range(n_words_to_plot)), frequencies_only[:n_words_to_plot]);"
   ]
  },
  {
   "cell_type": "code",
   "execution_count": null,
   "metadata": {},
   "outputs": [],
   "source": [
    "from gensim.models import Word2Vec\n",
    "from gensim.test.utils import get_tmpfile\n",
    "from sklearn.metrics.pairwise import cosine_similarity\n",
    "\n",
    "path = get_tmpfile(\"word2vec.model\")\n",
    "\n",
    "model = Word2Vec(sentences, size=200, window=5, min_count=1, workers=4, iter=10)\n",
    "model.save(\"word2vec.model\")"
   ]
  },
  {
   "cell_type": "code",
   "execution_count": null,
   "metadata": {},
   "outputs": [],
   "source": [
    "from scipy import spatial\n",
    "vec1 = model.wv['dütsch']\n",
    "vec2 = model.wv['französisch']\n",
    "spatial.distance.cosine(vec1, vec2)"
   ]
  },
  {
   "cell_type": "code",
   "execution_count": null,
   "metadata": {},
   "outputs": [],
   "source": [
    "word2idx = dict()\n",
    "idx2word = dict()\n",
    "word_vectors = []\n",
    "for i, word in enumerate(model.wv.vocab):\n",
    "    word2idx[word] = i\n",
    "    idx2word[i] = word\n",
    "    word_vectors.append(model.wv[word])"
   ]
  },
  {
   "cell_type": "code",
   "execution_count": null,
   "metadata": {},
   "outputs": [],
   "source": [
    "def get_most_similar_words(word: str, n: int = 5):\n",
    "    similarities = cosine_similarity([model.wv[word]], word_vectors)\n",
    "    indices = similarities.argsort()[0][-n:]\n",
    "    similarities_by_indices = []\n",
    "    most_similar_words = []\n",
    "    for idx in indices[::-1]:\n",
    "        similarities_by_indices.append(similarities[0][idx])\n",
    "        most_similar_words.append(idx2word[idx])\n",
    "    return list(zip(most_similar_words, similarities_by_indices))"
   ]
  },
  {
   "cell_type": "code",
   "execution_count": null,
   "metadata": {},
   "outputs": [],
   "source": [
    "get_most_similar_words('acht', n=10)"
   ]
  },
  {
   "cell_type": "code",
   "execution_count": null,
   "metadata": {},
   "outputs": [],
   "source": [
    "# good examples of nouns: stadt, frankriich\n",
    "# good examples of verbs: \n",
    "# bad examples: "
   ]
  }
 ],
 "metadata": {
  "kernelspec": {
   "display_name": "Python 3",
   "language": "python",
   "name": "python3"
  },
  "language_info": {
   "codemirror_mode": {
    "name": "ipython",
    "version": 3
   },
   "file_extension": ".py",
   "mimetype": "text/x-python",
   "name": "python",
   "nbconvert_exporter": "python",
   "pygments_lexer": "ipython3",
   "version": "3.7.7"
  }
 },
 "nbformat": 4,
 "nbformat_minor": 4
}
